{
 "cells": [
  {
   "cell_type": "markdown",
   "metadata": {},
   "source": [
    "# Model Code for: Water Budget Processing Module\n",
    "####  Island Wide Nutrient Modeling and Quantification of Coastal Freshwater Discharge for Tutuila, American Samoa, Script 1 of 2\n",
    "\n",
    "This script contains computational steps used to format existing output from a Tutuila Water Budget Model for use in the Tutuila-wide DIN loading model, which is documented in the report \"Island Wide Nutrient Modeling and Quantification of Coastal Freshwater Discharge for Tutuila, American Samoa\" as authored by Shuler Hydrologic LLC and delivered to the American Samoa Environmental Protection Agency. \n",
    "\n",
    "It should be noted that this script requires the Arcpy python module to run. This module requires that the user have a valid ESRI licence and is running this script in an environment where Arcpy is installed.  This script is optional to running the model, its output is contained in a single spreadsheet that is used by scrpt 2 of 2 as input. This spreadsheet has alreadt been generated using a cell size of 100 m and the 93 watershed boundaries used in the model. If the user wishes to modify calculation of water budget components for different boundaries, this script can be run and a different shapefile can be substituted for \"AG_OSDS_PIGS_NATURAL_ACTIVE_WS.shp\".\n",
    "\n",
    "#### The Tutuila Water Budget Model is freely available here: \n",
    "https://github.com/UH-WRRC-SWB-model "
   ]
  },
  {
   "cell_type": "markdown",
   "metadata": {},
   "source": [
    "# Disclaimer\n",
    "This script is provided as open-source software on the condition that neither Shuler Hydrologic LLC nor the American Samoa EPA shall be held liable for any damages resulting from the authorized or unauthorized use of the information. No warranty, expressed or implied, is made by Shuler Hydrologic LLC or the American Samoa EPA as to the accuracy and functioning of the program and related program material nor shall the fact of distribution constitute any such warranty and no responsibility is assumed by Shuler Hydrologic LLC in connection therewith.\n",
    "\n",
    "This information is preliminary or provisional and is subject to revision.  This software is provided \"AS IS.\"\n",
    "\n",
    "Note that sensitive information, or datasets that are not publically available, are not posted in raw forms. The model code is licensed under the GNU General Public License v3.0 which is an open-access license designed to explicitly affirm any user’s unlimited permission to run, copy, and use the unmodified code from this repository. Please note that some raw datasets used in this work are not owned by the authors and may be subject to other licenses or conditions."
   ]
  },
  {
   "cell_type": "markdown",
   "metadata": {},
   "source": [
    "#### Prepared by:  \n",
    "      Shuler Hydrologic LLC, Honolulu, HI 96826      \n",
    "      \n",
    "#### Prepared for:  \n",
    "    American Samoa Environmental Protection Agency, P.O. Box PPA, Pago Pago, AS 96799"
   ]
  },
  {
   "cell_type": "markdown",
   "metadata": {},
   "source": [
    "# Implementation\n",
    "\n",
    "### 1) Import modules and set relative paths"
   ]
  },
  {
   "cell_type": "code",
   "execution_count": 1,
   "metadata": {},
   "outputs": [
    {
     "data": {
      "text/html": [
       " <style>\n",
       "    div#notebook-container    { width: 95%; }\n",
       "    div#menubar-container     { width: 85%; }\n",
       "    div#maintoolbar-container { width: 99%; } </style> "
      ],
      "text/plain": [
       "<IPython.core.display.HTML object>"
      ]
     },
     "metadata": {},
     "output_type": "display_data"
    }
   ],
   "source": [
    "import arcpy\n",
    "import os\n",
    "from arcpy.sa import *\n",
    "arcpy.env.overwriteOutput = True # make sure overwrite files is on\n",
    "import pandas as pd\n",
    "\n",
    "SWB_asc_files = os.path.join('..', \"Raw_data\", 'GIS', 'SWB_asc_results' )\n",
    "\n",
    "sheds = os.path.join(\"..\", \"Raw_data\", \"GIS\", \"AG_OSDS_PIGS_NATURAL_ACTIVE_WS.shp\")\n",
    "\n",
    "# make the screen bigger!\n",
    "from IPython.display import display, HTML\n",
    "display(HTML(data=\"\"\" <style>\n",
    "    div#notebook-container    { width: 95%; }\n",
    "    div#menubar-container     { width: 85%; }\n",
    "    div#maintoolbar-container { width: 99%; } </style> \"\"\"))"
   ]
  },
  {
   "cell_type": "markdown",
   "metadata": {},
   "source": [
    "### 2) Calculate water budget components summarized by watershed areas"
   ]
  },
  {
   "cell_type": "code",
   "execution_count": 2,
   "metadata": {},
   "outputs": [],
   "source": [
    "Results = os.path.join('..', \"Workspace\", 'SWB2_results')\n",
    "if not os.path.exists(Results):\n",
    "    os.makedirs(Results)\n",
    "    \n",
    "Results_table = os.path.join(Results, \"tables\")\n",
    "if not os.path.exists(Results_table):\n",
    "    os.makedirs(Results_table)\n",
    "    \n",
    "# process each raster layer into a table of annual statistics  \n",
    "\"\"\" note this is where need to modify to process into monthly statistics \"\"\"\n",
    "for i in (os.listdir(SWB_asc_files)):\n",
    "    if i.endswith('.asc'):\n",
    "        outZSaT = ZonalStatisticsAsTable(sheds, \"Uniqe_ID\", os.path.join(SWB_asc_files, i), os.path.join(Results_table, \"temptab.dbf\"))  # in arc format\n",
    "        arcpy.TableToTable_conversion(outZSaT, Results_table, \"Table_{}_1.csv\".format(i)) \n",
    "\n",
    "# this block takes the parameters of interests, reads them and calculates water volumnes (m3/d) for each watershed\n",
    "\n",
    "templist = []\n",
    "intrest_list = ['Table_netinfiltration_annual.asc_1.csv', 'Table_runoff_annual.asc_1.csv', 'Table_rainfall_annual.asc_1.csv'] \n",
    "for c in intrest_list:\n",
    "    data = pd.read_csv(os.path.join(Results_table, c))\n",
    "    keyname = c.split(\"Table_\")[1].split(\"_annual\")[0]                   # parameter being worked on\n",
    "    data[keyname] = (data['MEAN']*.0254/365) * data['AREA'] \n",
    "    temp_frame = data[[\"Uniqe_ID\", keyname]]\n",
    "    templist.append(temp_frame)\n",
    "        \n",
    "summarry_frame1 = data[['Uniqe_ID']]                                        # this is just sticking them all together into one dataframe\n",
    "for i in templist:\n",
    "    summarry_frame1 = summarry_frame1.merge(i, on ='Uniqe_ID', how='outer')\n",
    "    \n",
    "summarry_frame1 = summarry_frame1[summarry_frame1.netinfiltration != 0]   # some of the values turned out tot be 0, this just selects rows that have non-zero values"
   ]
  },
  {
   "cell_type": "markdown",
   "metadata": {},
   "source": [
    "### 3) Calculate hydrologic pathways: Baseflow and SGD, in each basin from SWB model and partitioning coefficient\n",
    "\n",
    " applying the runoff to median flow to baseflow to total flow relationships derrived from the measured stream datasets (perualt, Wong, and UH ASPA)  we calculate hydrologic pathways\n",
    " \n",
    "- SWB runoff is directly calculated\n",
    "- SWB baseflow is 33 % +-17% of net infiltration\n",
    "- SWB SGD is 67 +-48 % of net infil"
   ]
  },
  {
   "cell_type": "code",
   "execution_count": 3,
   "metadata": {},
   "outputs": [],
   "source": [
    "summarry_frame1[\"SGD_m3pd\"] = 0.67 * summarry_frame1[\"netinfiltration\"]\n",
    "summarry_frame1[\"SGD_std\"] = 0.48 * summarry_frame1[\"netinfiltration\"]\n",
    "summarry_frame1[\"baseflow\"] = 0.33 * summarry_frame1[\"netinfiltration\"]\n",
    "summarry_frame1[\"baseflow_std\"] = 0.17 * summarry_frame1[\"netinfiltration\"]\n",
    "\n",
    "# write output file to be used as input by script 2 of 2\n",
    "summarry_frame1.to_csv(os.path.join(Results, \"WB_by_shed_m3pd_Fixed.csv\"))"
   ]
  },
  {
   "cell_type": "code",
   "execution_count": null,
   "metadata": {
    "collapsed": true
   },
   "outputs": [],
   "source": []
  }
 ],
 "metadata": {
  "kernelspec": {
   "display_name": "Python 3",
   "language": "python",
   "name": "python3"
  },
  "language_info": {
   "codemirror_mode": {
    "name": "ipython",
    "version": 3
   },
   "file_extension": ".py",
   "mimetype": "text/x-python",
   "name": "python",
   "nbconvert_exporter": "python",
   "pygments_lexer": "ipython3",
   "version": "3.6.2"
  }
 },
 "nbformat": 4,
 "nbformat_minor": 2
}
